{
  "cells": [
    {
      "cell_type": "markdown",
      "metadata": {
        "id": "view-in-github",
        "colab_type": "text"
      },
      "source": [
        "<a href=\"https://colab.research.google.com/github/MphoPetunia/Strudent_Feedbck_System/blob/main/Student_FeedBack_System.ipynb\" target=\"_parent\"><img src=\"https://colab.research.google.com/assets/colab-badge.svg\" alt=\"Open In Colab\"/></a>"
      ]
    },
    {
      "cell_type": "code",
      "execution_count": null,
      "metadata": {
        "colab": {
          "background_save": true,
          "base_uri": "https://localhost:8080/"
        },
        "id": "MDjhndd-lrbK",
        "outputId": "4e0e8f10-e60e-46cd-c05b-b923a15e3423"
      },
      "outputs": [
        {
          "name": "stdout",
          "output_type": "stream",
          "text": [
            "  Student            Course  Rating         Comments\n",
            "0     Tim              Math       5     Great Course\n",
            "1   Sarah           Science       4  Well-Structured\n",
            "2   David  Business Studies       3         Too-Fast\n",
            "3     Eve           English       5          Love it\n",
            "4   Alice              Arts       4      Informative\n"
          ]
        }
      ],
      "source": [
        "import pandas as pd\n",
        "import numpy as np\n",
        "import matplotlib.pyplot as plt\n",
        "import seaborn as sns\n",
        "\n",
        "data = {'Student': ['Tim', 'Sarah', 'David', 'Eve', 'Alice'], 'Course':['Math', 'Science', 'Business Studies', 'English', 'Arts'], 'Rating':[5 ,4, 3, 5, 4],'Comments':['Great Course', 'Well-Structured','Too-Fast','Love it', 'Informative']}\n",
        "df = pd.DataFrame(data)\n",
        "print(df)"
      ]
    },
    {
      "cell_type": "code",
      "execution_count": null,
      "metadata": {
        "colab": {
          "background_save": true,
          "base_uri": "https://localhost:8080/"
        },
        "id": "YNJZXVJbrGkz",
        "outputId": "aea07401-dca1-4f72-99fe-2d7fecc0b780"
      },
      "outputs": [
        {
          "name": "stdout",
          "output_type": "stream",
          "text": [
            "Dataset Info:\n",
            "<class 'pandas.core.frame.DataFrame'>\n",
            "RangeIndex: 5 entries, 0 to 4\n",
            "Data columns (total 4 columns):\n",
            " #   Column    Non-Null Count  Dtype \n",
            "---  ------    --------------  ----- \n",
            " 0   Student   5 non-null      object\n",
            " 1   Course    5 non-null      object\n",
            " 2   Rating    5 non-null      int64 \n",
            " 3   Comments  5 non-null      object\n",
            "dtypes: int64(1), object(3)\n",
            "memory usage: 288.0+ bytes\n",
            "None\n"
          ]
        }
      ],
      "source": [
        "print('Dataset Info:')\n",
        "print(df.info())"
      ]
    },
    {
      "cell_type": "code",
      "execution_count": null,
      "metadata": {
        "colab": {
          "background_save": true,
          "base_uri": "https://localhost:8080/"
        },
        "id": "fa1TvGVir0td",
        "outputId": "9a9458a5-8aca-4212-ea65-e9cb3992fe59"
      },
      "outputs": [
        {
          "name": "stdout",
          "output_type": "stream",
          "text": [
            "\n",
            "Missing in Dataset:\n",
            "Student     0\n",
            "Course      0\n",
            "Rating      0\n",
            "Comments    0\n",
            "dtype: int64\n"
          ]
        }
      ],
      "source": [
        "print(\"\\nMissing in Dataset:\")\n",
        "print(df.isnull().sum())"
      ]
    },
    {
      "cell_type": "code",
      "execution_count": null,
      "metadata": {
        "colab": {
          "background_save": true,
          "base_uri": "https://localhost:8080/"
        },
        "id": "gxYh-iw9rmYP",
        "outputId": "34683f7f-b0ac-470d-89ce-ebf1910ce2fb"
      },
      "outputs": [
        {
          "name": "stdout",
          "output_type": "stream",
          "text": [
            "Dataset after removing missing values:\n",
            "  Student            Course  Rating         Comments\n",
            "0     Tim              Math       5     Great Course\n",
            "1   Sarah           Science       4  Well-Structured\n",
            "2   David  Business Studies       3         Too-Fast\n",
            "3     Eve           English       5          Love it\n",
            "4   Alice              Arts       4      Informative\n"
          ]
        }
      ],
      "source": [
        "df = df.dropna()\n",
        "print(\"Dataset after removing missing values:\")\n",
        "print(df)"
      ]
    },
    {
      "cell_type": "code",
      "execution_count": null,
      "metadata": {
        "colab": {
          "base_uri": "https://localhost:8080/"
        },
        "id": "GfuudHBsvntL",
        "outputId": "e0d91c8c-5c6c-4fe7-a11a-f17575db9dd1"
      },
      "outputs": [
        {
          "name": "stdout",
          "output_type": "stream",
          "text": [
            "  Student            Course  Rating         Comments\n",
            "0     Tim              Math       5     Great Course\n",
            "1   Sarah           Science       4  Well-Structured\n",
            "2   David  Business Studies       3         Too-Fast\n",
            "3     Eve           English       5          Love it\n",
            "4   Alice              Arts       4      Informative\n"
          ]
        }
      ],
      "source": [
        "df['Rating']=df['Rating'].fillna(0)\n",
        "df['Comments']=df['Comments'].fillna('No Comments')\n",
        "print(df)"
      ]
    },
    {
      "cell_type": "code",
      "execution_count": null,
      "metadata": {
        "colab": {
          "base_uri": "https://localhost:8080/"
        },
        "id": "Yajww_HAvoXo",
        "outputId": "07661d95-e41f-4203-a502-8a75fa6d560c"
      },
      "outputs": [
        {
          "name": "stdout",
          "output_type": "stream",
          "text": [
            "\n",
            "Data Types After Conversion:\n",
            "Student     object\n",
            "Course      object\n",
            "Rating       int64\n",
            "Comments    object\n",
            "dtype: object\n"
          ]
        }
      ],
      "source": [
        "df['Rating'] = pd.to_numeric(df['Rating'], errors='coerce')\n",
        "print(\"\\nData Types After Conversion:\")\n",
        "\n",
        "print(df.dtypes)"
      ]
    },
    {
      "cell_type": "code",
      "execution_count": null,
      "metadata": {
        "colab": {
          "base_uri": "https://localhost:8080/"
        },
        "id": "tu-MNNWIwTj_",
        "outputId": "46d376e4-5c88-4e44-cf82-8240e3af05d4"
      },
      "outputs": [
        {
          "name": "stdout",
          "output_type": "stream",
          "text": [
            "Average Ratings by course:\n",
            "             Course  Rating\n",
            "0              Arts     4.0\n",
            "1  Business Studies     3.0\n",
            "2           English     5.0\n",
            "3              Math     5.0\n",
            "4           Science     4.0\n"
          ]
        }
      ],
      "source": [
        "#Analyzing average ratings by course\n",
        "average_ratings = df.groupby('Course')['Rating'].mean().reset_index()\n",
        "print(\"Average Ratings by course:\")\n",
        "print(average_ratings)"
      ]
    },
    {
      "cell_type": "code",
      "execution_count": null,
      "metadata": {
        "colab": {
          "base_uri": "https://localhost:8080/",
          "height": 493
        },
        "id": "tvoqz0a0y2ws",
        "outputId": "5aa22cb6-23dc-4aff-d366-71db03b5323f"
      },
      "outputs": [
        {
          "data": {
            "image/png": "[encoded data removed]",
            "text/plain": [
              "<Figure size 800x500 with 1 Axes>"
            ]
          },
          "metadata": {},
          "output_type": "display_data"
        }
      ],
      "source": [
        "#Visualiazing ratings with a bar chart\n",
        "# Bar chart for average ratings\n",
        "plt.figure(figsize=(8, 5))\n",
        "sns.barplot(data=average_ratings, x='Course', y='Rating')\n",
        "\n",
        "# Add labels and title\n",
        "plt.title('Average Ratings by Course', fontsize=16)\n",
        "plt.xlabel('Course', fontsize=12)\n",
        "plt.ylabel('Average Rating', fontsize=12)\n",
        "plt.show()\n"
      ]
    },
    {
      "cell_type": "code",
      "execution_count": null,
      "metadata": {
        "colab": {
          "base_uri": "https://localhost:8080/"
        },
        "id": "Lsvq9xIV1-dc",
        "outputId": "0d80399b-6299-4e1b-dbe2-a79dba19398f"
      },
      "outputs": [
        {
          "name": "stdout",
          "output_type": "stream",
          "text": [
            "Feedback Comments by Course:\n",
            "             Course           Comments\n",
            "0              Arts      [Informative]\n",
            "1  Business Studies         [Too-Fast]\n",
            "2           English          [Love it]\n",
            "3              Math     [Great Course]\n",
            "4           Science  [Well-Structured]\n"
          ]
        }
      ],
      "source": [
        "#Extracting  Feedback comments for each Course\n",
        "course_comments = df.groupby('Course')['Comments'].apply(list).reset_index()\n",
        "print(\"Feedback Comments by Course:\")\n",
        "print(course_comments)"
      ]
    },
    {
      "cell_type": "code",
      "execution_count": null,
      "metadata": {
        "id": "bxTpPolB2N2R"
      },
      "outputs": [],
      "source": [
        "#Identifying positive and  negative feedback\n",
        "df['Feedback_Type'] = np.where(df['Rating'] >= 4, 'Positive', 'Negative')\n",
        "print(\"Dataset with Feedback Type:\")\n",
        "print(df)\n",
        "\n",
        "feedback_summary = df['Feedback_Type'].value_counts()\n",
        "print(\"\\nFeedback Summary:\")\n",
        "print(feedback_summary)"
      ]
    },
    {
      "cell_type": "code",
      "execution_count": null,
      "metadata": {
        "colab": {
          "background_save": true,
          "base_uri": "https://localhost:8080/",
          "height": 522
        },
        "id": "a6Fn4Wa3Rc-F",
        "outputId": "1979f641-8357-458d-826f-f894e5e85aa0"
      },
      "outputs": [
        {
          "data": {
            "image/png": "[encoded data removed]",
            "text/plain": [
              "<Figure size 600x600 with 1 Axes>"
            ]
          },
          "metadata": {},
          "output_type": "display_data"
        }
      ],
      "source": [
        "#Using a pie chart to visualize the feedback types\n",
        "plt.figure(figsize=(6, 6))\n",
        "df['Feedback_Type'].value_counts().plot.pie(\n",
        "    autopct='%1.1f%%', startangle=140, colors=['lightblue', 'lightgreen']\n",
        ")\n",
        "plt.title('Feedback Type Distribution', fontsize=14)\n",
        "plt.ylabel('')\n",
        "plt.show()\n"
      ]
    },
    {
      "cell_type": "markdown",
      "metadata": {
        "id": "xEJ056AMbQWF"
      },
      "source": [
        "Sentiment Analysis on the feedback comments"
      ]
    },
    {
      "cell_type": "code",
      "execution_count": 14,
      "metadata": {
        "colab": {
          "base_uri": "https://localhost:8080/"
        },
        "id": "AXrRRWKdbXun",
        "outputId": "5d030ee0-f666-44a7-d3c0-71034b3ccec8"
      },
      "outputs": [
        {
          "output_type": "stream",
          "name": "stdout",
          "text": [
            "Requirement already satisfied: nltk in /usr/local/lib/python3.10/dist-packages (3.9.1)\n",
            "Requirement already satisfied: click in /usr/local/lib/python3.10/dist-packages (from nltk) (8.1.7)\n",
            "Requirement already satisfied: joblib in /usr/local/lib/python3.10/dist-packages (from nltk) (1.4.2)\n",
            "Requirement already satisfied: regex>=2021.8.3 in /usr/local/lib/python3.10/dist-packages (from nltk) (2024.11.6)\n",
            "Requirement already satisfied: tqdm in /usr/local/lib/python3.10/dist-packages (from nltk) (4.67.1)\n"
          ]
        }
      ],
      "source": [
        "!pip install nltk\n"
      ]
    },
    {
      "cell_type": "code",
      "execution_count": 15,
      "metadata": {
        "colab": {
          "base_uri": "https://localhost:8080/"
        },
        "id": "30OXUGiibgkj",
        "outputId": "16e0f379-5d66-42db-b6f6-9f9c4a1b86ef"
      },
      "outputs": [
        {
          "output_type": "stream",
          "name": "stderr",
          "text": [
            "[nltk_data] Downloading package vader_lexicon to /root/nltk_data...\n"
          ]
        },
        {
          "output_type": "execute_result",
          "data": {
            "text/plain": [
              "True"
            ]
          },
          "metadata": {},
          "execution_count": 15
        }
      ],
      "source": [
        "import nltk\n",
        "from nltk.sentiment.vader import SentimentIntensityAnalyzer\n",
        "nltk.download('vader_lexicon')"
      ]
    },
    {
      "cell_type": "code",
      "execution_count": 16,
      "metadata": {
        "colab": {
          "base_uri": "https://localhost:8080/"
        },
        "id": "ZLN_QH09byxo",
        "outputId": "2b4d41e0-60cd-4123-d399-5f763324e308"
      },
      "outputs": [
        {
          "output_type": "stream",
          "name": "stdout",
          "text": [
            "Dataset with Sentiment Analysis:\n",
            "          Comments  Sentiment_Score Sentiment\n",
            "0     Great Course           0.6249  Positive\n",
            "1  Well-Structured           0.0000   Neutral\n",
            "2         Too-Fast           0.0000   Neutral\n",
            "3          Love it           0.6369  Positive\n",
            "4      Informative           0.0000   Neutral\n"
          ]
        }
      ],
      "source": [
        "# Initialize Sentiment Intensity Analyzer\n",
        "sia = SentimentIntensityAnalyzer()\n",
        "\n",
        "# Apply sentiment analysis to the 'Comments' column\n",
        "df['Sentiment_Score'] = df['Comments'].apply(lambda x: sia.polarity_scores(x)['compound'])\n",
        "\n",
        "# Classify sentiment based on the score\n",
        "# Positive: score > 0.05, Neutral: -0.05 <= score <= 0.05, Negative: score < -0.05\n",
        "df['Sentiment'] = df['Sentiment_Score'].apply(\n",
        "    lambda score: 'Positive' if score > 0.05 else ('Negative' if score < -0.05 else 'Neutral')\n",
        ")\n",
        "\n",
        "# Display dataset with sentiment analysis\n",
        "print(\"Dataset with Sentiment Analysis:\")\n",
        "print(df[['Comments', 'Sentiment_Score', 'Sentiment']])\n"
      ]
    },
    {
      "cell_type": "code",
      "source": [
        "# Count sentiment types\n",
        "sentiment_counts = df['Sentiment'].value_counts()\n",
        "\n",
        "# Bar chart for sentiment distribution\n",
        "plt.figure(figsize=(6, 4))\n",
        "sns.barplot(x=sentiment_counts.index, y=sentiment_counts.values, palette='coolwarm')\n",
        "\n",
        "# Add labels and title\n",
        "plt.title('Sentiment Distribution of Feedback', fontsize=14)\n",
        "plt.xlabel('Sentiment', fontsize=12)\n",
        "plt.ylabel('Count', fontsize=12)\n",
        "plt.show()\n"
      ],
      "metadata": {
        "colab": {
          "base_uri": "https://localhost:8080/",
          "height": 522
        },
        "id": "5nNZhurgKw3F",
        "outputId": "105269e1-cc56-4a5a-eaac-79dc273f9ddc"
      },
      "execution_count": 21,
      "outputs": [
        {
          "output_type": "stream",
          "name": "stderr",
          "text": [
            "<ipython-input-21-9cd497a818fc>:6: FutureWarning: \n",
            "\n",
            "Passing `palette` without assigning `hue` is deprecated and will be removed in v0.14.0. Assign the `x` variable to `hue` and set `legend=False` for the same effect.\n",
            "\n",
            "  sns.barplot(x=sentiment_counts.index, y=sentiment_counts.values, palette='coolwarm')\n"
          ]
        },
        {
          "output_type": "display_data",
          "data": {
            "text/plain": [
              "<Figure size 600x400 with 1 Axes>"
            ],
            "image/png": "[encoded data removed]"
          },
          "metadata": {}
        }
      ]
    },
    {
      "cell_type": "code",
      "source": [
        "#Sentiment Aanalysis by course\n",
        "# Grouping sentiment by course\n",
        "course_sentiment = df.groupby(['Course', 'Sentiment']).size().unstack().fillna(0)\n",
        "\n",
        "# Stacked bar chart for sentiment distribution by course\n",
        "course_sentiment.plot(kind='bar', stacked=True, figsize=(8, 6), colormap='viridis')\n",
        "\n",
        "\n",
        "plt.title('Sentiment Distribution by Course', fontsize=14)\n",
        "plt.xlabel('Course', fontsize=12)\n",
        "plt.ylabel('Count', fontsize=12)\n",
        "plt.legend(title=\"Sentiment\")\n",
        "plt.show()\n"
      ],
      "metadata": {
        "colab": {
          "base_uri": "https://localhost:8080/",
          "height": 672
        },
        "id": "edsY-DqkK01N",
        "outputId": "ffdfd2c3-5fcf-4880-ec04-b4a1758c2878"
      },
      "execution_count": 22,
      "outputs": [
        {
          "output_type": "display_data",
          "data": {
            "text/plain": [
              "<Figure size 800x600 with 1 Axes>"
            ],
            "image/png": "[encoded data removed]"
          },
          "metadata": {}
        }
      ]
    },
    {
      "cell_type": "code",
      "source": [
        "# Saving the final dataset as a CSV file\n",
        "final_csv_filename = 'final_student_feedback.csv'\n",
        "df.to_csv(final_csv_filename, index=False)\n",
        "\n",
        "# Downloading the file\n",
        "from google.colab import files\n",
        "files.download(final_csv_filename)\n"
      ],
      "metadata": {
        "colab": {
          "base_uri": "https://localhost:8080/",
          "height": 17
        },
        "id": "Pm0RS-q1LKXS",
        "outputId": "337cf970-3cd8-4e3d-8673-e8574aca2be3"
      },
      "execution_count": 23,
      "outputs": [
        {
          "output_type": "display_data",
          "data": {
            "text/plain": [
              "<IPython.core.display.Javascript object>"
            ],
            "application/javascript": [
              "\n",
              "    async function download(id, filename, size) {\n",
              "      if (!google.colab.kernel.accessAllowed) {\n",
              "        return;\n",
              "      }\n",
              "      const div = document.createElement('div');\n",
              "      const label = document.createElement('label');\n",
              "      label.textContent = `Downloading \"${filename}\": `;\n",
              "      div.appendChild(label);\n",
              "      const progress = document.createElement('progress');\n",
              "      progress.max = size;\n",
              "      div.appendChild(progress);\n",
              "      document.body.appendChild(div);\n",
              "\n",
              "      const buffers = [];\n",
              "      let downloaded = 0;\n",
              "\n",
              "      const channel = await google.colab.kernel.comms.open(id);\n",
              "      // Send a message to notify the kernel that we're ready.\n",
              "      channel.send({})\n",
              "\n",
              "      for await (const message of channel.messages) {\n",
              "        // Send a message to notify the kernel that we're ready.\n",
              "        channel.send({})\n",
              "        if (message.buffers) {\n",
              "          for (const buffer of message.buffers) {\n",
              "            buffers.push(buffer);\n",
              "            downloaded += buffer.byteLength;\n",
              "            progress.value = downloaded;\n",
              "          }\n",
              "        }\n",
              "      }\n",
              "      const blob = new Blob(buffers, {type: 'application/binary'});\n",
              "      const a = document.createElement('a');\n",
              "      a.href = window.URL.createObjectURL(blob);\n",
              "      a.download = filename;\n",
              "      div.appendChild(a);\n",
              "      a.click();\n",
              "      div.remove();\n",
              "    }\n",
              "  "
            ]
          },
          "metadata": {}
        },
        {
          "output_type": "display_data",
          "data": {
            "text/plain": [
              "<IPython.core.display.Javascript object>"
            ],
            "application/javascript": [
              "download(\"download_80ad3dc6-700d-4ca0-bc95-85d967519a91\", \"final_student_feedback.csv\", 321)"
            ]
          },
          "metadata": {}
        }
      ]
    }
  ],
  "metadata": {
    "colab": {
      "provenance": [],
      "authorship_tag": "ABX9TyMP+r3Mo/QlQS/jMFQBM4rd",
      "include_colab_link": true
    },
    "kernelspec": {
      "display_name": "Python 3",
      "name": "python3"
    },
    "language_info": {
      "name": "python"
    }
  },
  "nbformat": 4,
  "nbformat_minor": 0
}